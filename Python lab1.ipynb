{
 "cells": [
  {
   "cell_type": "markdown",
   "metadata": {},
   "source": [
    "Marvin Acosta Arcpy Lab1"
   ]
  },
  {
   "cell_type": "code",
   "execution_count": 1,
   "metadata": {
    "collapsed": true
   },
   "outputs": [],
   "source": [
    "#This allow you to use arcpy system\n",
    "import sys\n",
    "sys.path.append('C:\\\\Program Files (x86)\\\\ArcGIS\\\\Desktop10.5\\\\bin')\n",
    "sys.path.append('C:\\\\Program Files (x86)\\\\ArcGIS\\\\Desktop10.5\\\\arcpy')\n",
    "sys.path.append('C:\\\\Program Files (x86)\\\\ArcGIS\\\\Desktop10.5\\\\ArcToolbox\\\\Scripts')\n",
    "import arcpy"
   ]
  },
  {
   "cell_type": "markdown",
   "metadata": {},
   "source": [
    "Creating work enviroment"
   ]
  },
  {
   "cell_type": "code",
   "execution_count": 2,
   "metadata": {
    "collapsed": true
   },
   "outputs": [],
   "source": [
    "# This code allows you to create work environment \n",
    "arcpy.env.workspace = \"‪U:\\\\geog458\\\\lab1\\\\\"\n",
    "arcpy.env.overwriteOutput = True"
   ]
  },
  {
   "cell_type": "markdown",
   "metadata": {},
   "source": [
    "Adding a new field"
   ]
  },
  {
   "cell_type": "code",
   "execution_count": 2,
   "metadata": {
    "collapsed": true
   },
   "outputs": [],
   "source": [
    "# This code allows you to add a new field to shape file that will consist of the name of each counties\n",
    "arcpy.AddField_management(\"U:\\geog458\\lab1\\saep_bg10.shp\", \"cntyName\", \"TEXT\") \n",
    "# Created a cursor to search in the table for the CountyName and FIPSCounty                        \n",
    "myList = []\n",
    "cursor = arcpy.da.SearchCursor(\"U:\\geog458\\lab1\\WashingtonFIPS.dbf\", [\"CountyName\", \"FIPSCounty\"])\n",
    "# This code allows the cursor to loop in the shape file to find polygons that has the same FIPS code and putting\n",
    "# it to the new column named cntyName\n",
    "for row in cursor:\n",
    "    cursoru = arcpy.da.UpdateCursor(\"U:\\geog458\\lab1\\saep_bg10.shp\", \"cntyName\", '\"COUNTYFP10\" = ' + \"'%s'\" %row[1])\n",
    "    myList.append(row[0])\n",
    "# To update the row\n",
    "\n",
    "    for row2 in cursoru:\n",
    "        row2[0] = row[0]\n",
    "        cursoru.updateRow(row2)\n",
    "        \n",
    "# delete both cursors\n",
    "del cursor\n",
    "del cursoru\n"
   ]
  },
  {
   "cell_type": "code",
   "execution_count": 3,
   "metadata": {},
   "outputs": [
    {
     "name": "stdout",
     "output_type": "stream",
     "text": [
      "[u'Adams', u'Asotin', u'Benton', u'Chelan', u'Clallam', u'Clark', u'Columbia', u'Cowlitz', u'Douglas', u'Ferry', u'Franklin', u'Garfield', u'Grant', u'Grays Harbor', u'Island', u'Jefferson', u'King', u'Kitsap', u'Kittitas', u'Klickitat', u'Lewis', u'Lincoln', u'Mason', u'Okanogan', u'Pacific', u'Pend Oreille', u'Pierce', u'San Juan', u'Skagit', u'Skamania', u'Snohomish', u'Spokane', u'Stevens', u'Thurston', u'Wahkiakum', u'Walla Walla', u'Whatcom', u'Whitman', u'Yakima']\n"
     ]
    }
   ],
   "source": [
    "# Printing the result of the previous code \n",
    "print myList"
   ]
  },
  {
   "cell_type": "markdown",
   "metadata": {},
   "source": [
    "Converting the original shape file to 39 different shape file (for each county)"
   ]
  },
  {
   "cell_type": "code",
   "execution_count": 14,
   "metadata": {
    "collapsed": true
   },
   "outputs": [],
   "source": [
    "# This code allows you to covert the original shape file to 39 different shape file for each county\n",
    "for county in myList:\n",
    "    arcpy.FeatureClassToFeatureClass_conversion(\"U:\\geog458\\lab1\\saep_bg10.shp\", \n",
    "                                                \"U:\\geog458\\lab1\\\\\",\n",
    "                                               str(county),\n",
    "                                               '\"cntyName\" = ' + \"'%s'\" %county)"
   ]
  },
  {
   "cell_type": "code",
   "execution_count": 15,
   "metadata": {
    "collapsed": true
   },
   "outputs": [],
   "source": [
    "from subprocess import call\n",
    "import os\n",
    "\n",
    "os.environ[\"GDAL_DATA\"] = \"C:\\\\OSGeo4W64\\\\share\\\\gdal\"\n",
    "os.environ[\"GDAL_DRIVER_PATH\"] = \"C:\\\\OSGeo4W64\\\\bin\\\\gdalplugins\"\n",
    "os.environ[\"PROJ_LIB\"] = \"C:\\\\OSGeo4W64\\\\share\\\\proj\"\n",
    "os.environ[\"PATH\"] = \"C:\\\\OSGeo4W64\\\\bin;\"+os.environ[\"PATH\"]+\";C:\\\\OSGeo4W64\\\\apps\\\\msys\\\\bin;C:\\\\OSGeo4W64\\\\apps\\\\Python27\\\\Scripts\"\n"
   ]
  },
  {
   "cell_type": "markdown",
   "metadata": {},
   "source": [
    "Converting shape files into geojson files"
   ]
  },
  {
   "cell_type": "code",
   "execution_count": 17,
   "metadata": {
    "collapsed": true
   },
   "outputs": [],
   "source": [
    "# This code allows you to convert the shape files of each county you created into geojson files\n",
    "for county in myList:\n",
    "    call(['C:\\\\OSGeo4W64\\\\bin\\\\ogr2ogr',\n",
    "      '-f','GeoJSON','-t_srs','WGS84',\n",
    "      '-s_srs','EPSG:2927', # chaged the projection\n",
    "      'U:\\\\geog458\\\\lab1\\\\geojson\\\\' + county + '.geojson',\n",
    "      'U:\\\\geog458\\\\lab1\\\\' + county + '.shp'])"
   ]
  },
  {
   "cell_type": "markdown",
   "metadata": {},
   "source": [
    "Adding all the population of each block that falls in the same county"
   ]
  },
  {
   "cell_type": "code",
   "execution_count": 5,
   "metadata": {},
   "outputs": [
    {
     "name": "stdout",
     "output_type": "stream",
     "text": [
      "[19870.0, 22290.0, 193499.99999999997, 76829.99999999999, 74240.00000000001, 470999.9999999994, 4100.0, 105900.00000000001, 41420.0, 7740.0, 90330.00000000003, 2200.0, 95630.0, 72970.0, 82790.0, 31360.0, 2153700.0, 264300.00000000006, 44730.0, 21660.0, 77440.00000000003, 10700.0, 63190.00000000001, 42110.00000000001, 21249.999999999996, 13370.0, 859400.0000000003, 16510.0, 124100.00000000001, 11690.0, 789400.0000000005, 499800.0, 44510.0, 276899.9999999999, 4030.0, 61399.999999999985, 216300.00000000003, 48639.99999999999, 253000.0]\n"
     ]
    }
   ],
   "source": [
    "# This code allow the curS to search on the origal shape file to look for POP2017 to add \n",
    "# all the population of each block that falls in the same county and put it into PopList \n",
    "PopList = []\n",
    "for county in myList:\n",
    "    curS = arcpy.da.SearchCursor(\"U:\\geog458\\lab1\\saep_bg10.shp\",[\"POP2017\"],'\"cntyName\" = ' + \"'%s'\" %county)\n",
    "    result = 0\n",
    "    for row in curS:\n",
    "        result = row[0] + result\n",
    "    PopList.append(result)\n",
    "# delete curS\n",
    "\n",
    "del curS\n",
    "# print the result of the code\n",
    "print PopList"
   ]
  },
  {
   "cell_type": "markdown",
   "metadata": {},
   "source": [
    "Print the 10 highest population "
   ]
  },
  {
   "cell_type": "code",
   "execution_count": 7,
   "metadata": {},
   "outputs": [
    {
     "name": "stdout",
     "output_type": "stream",
     "text": [
      "2153700.0\n",
      "859400.0\n",
      "789400.0\n",
      "499800.0\n",
      "471000.0\n",
      "276900.0\n",
      "264300.0\n",
      "253000.0\n",
      "216300.0\n",
      "193500.0\n"
     ]
    }
   ],
   "source": [
    "# sorting the population by hioghest to lowest\n",
    "PopList.sort(reverse=True)\n",
    "# use for loop to figure out the 10 highest population counties and print the result\n",
    "for i in range(10):\n",
    "    print PopList[i]\n",
    "    \n"
   ]
  },
  {
   "cell_type": "markdown",
   "metadata": {},
   "source": [
    "Probably it took me at least 4 days to work on this lab. At first I struggled and confused of where to begin. Also I worked with KIm Vo for this lab to helped me understand the process, function, and the code I used."
   ]
  }
 ],
 "metadata": {
  "kernelspec": {
   "display_name": "Python 2",
   "language": "python",
   "name": "python2"
  },
  "language_info": {
   "codemirror_mode": {
    "name": "ipython",
    "version": 2
   },
   "file_extension": ".py",
   "mimetype": "text/x-python",
   "name": "python",
   "nbconvert_exporter": "python",
   "pygments_lexer": "ipython2",
   "version": "2.7.13"
  }
 },
 "nbformat": 4,
 "nbformat_minor": 2
}
